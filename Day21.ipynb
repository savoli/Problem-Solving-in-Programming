{
 "cells": [
  {
   "cell_type": "markdown",
   "metadata": {},
   "source": [
    "# Problem Solving and Programming\n",
    "Day No: 21\n",
    "\n",
    "Date :19/05/2019"
   ]
  },
  {
   "cell_type": "code",
   "execution_count": 14,
   "metadata": {},
   "outputs": [
    {
     "data": {
      "text/plain": [
       "9"
      ]
     },
     "execution_count": 14,
     "metadata": {},
     "output_type": "execute_result"
    }
   ],
   "source": [
    "def cLength(n):\n",
    "    length=0\n",
    "    while(n!=1):\n",
    "        if(n%2==0):\n",
    "            n=n/2\n",
    "            length+=1\n",
    "        else:\n",
    "            n=3*n+1\n",
    "        length+=1\n",
    "    return length\n",
    "\n",
    "cLength(5)"
   ]
  },
  {
   "cell_type": "code",
   "execution_count": 13,
   "metadata": {},
   "outputs": [
    {
     "data": {
      "text/plain": [
       "145"
      ]
     },
     "execution_count": 13,
     "metadata": {},
     "output_type": "execute_result"
    }
   ],
   "source": [
    "def cLength(n):\n",
    "    length=0\n",
    "    while(n!=1):\n",
    "        if(n%2==0):\n",
    "            n=n/2\n",
    "            length+=1\n",
    "        else:\n",
    "            n=3*n+1\n",
    "        length+=1\n",
    "    return length\n",
    "\n",
    "\n",
    "def mSol(i,j):\n",
    "    #mlen=0\n",
    "    lenlist= [cLength(k) for k in range(i,j+1)]\n",
    "    return max(lenlist)\n",
    "mSol(201,210)"
   ]
  },
  {
   "cell_type": "code",
   "execution_count": 17,
   "metadata": {},
   "outputs": [
    {
     "name": "stdout",
     "output_type": "stream",
     "text": [
      "2\n",
      "3\n",
      "5\n",
      "7\n",
      "9\n",
      "11\n",
      "13\n",
      "15\n",
      "17\n",
      "19\n",
      "21\n",
      "23\n",
      "25\n",
      "27\n",
      "29\n",
      "31\n",
      "33\n"
     ]
    }
   ],
   "source": [
    "def generateprime(n):\n",
    "    for i in range(2,n):\n",
    "        count = 0\n",
    "        for j in range(2,i//2+1):\n",
    "            if i % j == 0:\n",
    "                count = count + 1\n",
    "            break\n",
    "        if count == 0:\n",
    "            print(i)\n",
    "generateprime(34)"
   ]
  },
  {
   "cell_type": "code",
   "execution_count": null,
   "metadata": {},
   "outputs": [],
   "source": []
  }
 ],
 "metadata": {
  "kernelspec": {
   "display_name": "Python 3",
   "language": "python",
   "name": "python3"
  },
  "language_info": {
   "codemirror_mode": {
    "name": "ipython",
    "version": 3
   },
   "file_extension": ".py",
   "mimetype": "text/x-python",
   "name": "python",
   "nbconvert_exporter": "python",
   "pygments_lexer": "ipython3",
   "version": "3.7.3"
  }
 },
 "nbformat": 4,
 "nbformat_minor": 2
}
