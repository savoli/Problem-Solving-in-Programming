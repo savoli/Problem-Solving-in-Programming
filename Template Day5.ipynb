{
 "cells": [
  {
   "cell_type": "code",
   "execution_count": 1,
   "metadata": {},
   "outputs": [
    {
     "name": "stdout",
     "output_type": "stream",
     "text": [
      "5\n",
      "John\n"
     ]
    }
   ],
   "source": [
    "x = 5\n",
    "y = \"John\"\n",
    "print(x)\n",
    "print(y)"
   ]
  },
  {
   "cell_type": "code",
   "execution_count": 2,
   "metadata": {},
   "outputs": [
    {
     "name": "stdout",
     "output_type": "stream",
     "text": [
      "Sally\n"
     ]
    }
   ],
   "source": [
    "x = 4 # x is of type int\n",
    "x = \"Sally\" # x is now of type str\n",
    "print(x)"
   ]
  },
  {
   "cell_type": "code",
   "execution_count": 3,
   "metadata": {},
   "outputs": [
    {
     "name": "stdout",
     "output_type": "stream",
     "text": [
      "Python is awesome\n"
     ]
    }
   ],
   "source": [
    "x = \"awesome\"\n",
    "print(\"Python is \" + x)"
   ]
  },
  {
   "cell_type": "code",
   "execution_count": 4,
   "metadata": {},
   "outputs": [
    {
     "name": "stdout",
     "output_type": "stream",
     "text": [
      "Python is awesome\n"
     ]
    }
   ],
   "source": [
    "x = \"Python is \"\n",
    "y = \"awesome\"\n",
    "z =  x + y\n",
    "print(z)\n"
   ]
  },
  {
   "cell_type": "code",
   "execution_count": 5,
   "metadata": {},
   "outputs": [
    {
     "name": "stdout",
     "output_type": "stream",
     "text": [
      "15\n"
     ]
    }
   ],
   "source": [
    "x = 5\n",
    "y = 10\n",
    "print(x + y)\n"
   ]
  },
  {
   "cell_type": "code",
   "execution_count": 6,
   "metadata": {},
   "outputs": [
    {
     "ename": "TypeError",
     "evalue": "unsupported operand type(s) for +: 'int' and 'str'",
     "output_type": "error",
     "traceback": [
      "\u001b[1;31m---------------------------------------------------------------------------\u001b[0m",
      "\u001b[1;31mTypeError\u001b[0m                                 Traceback (most recent call last)",
      "\u001b[1;32m<ipython-input-6-00c66e4310ff>\u001b[0m in \u001b[0;36m<module>\u001b[1;34m\u001b[0m\n\u001b[0;32m      1\u001b[0m \u001b[0mx\u001b[0m \u001b[1;33m=\u001b[0m \u001b[1;36m5\u001b[0m\u001b[1;33m\u001b[0m\u001b[1;33m\u001b[0m\u001b[0m\n\u001b[0;32m      2\u001b[0m \u001b[0my\u001b[0m \u001b[1;33m=\u001b[0m \u001b[1;34m\"John\"\u001b[0m\u001b[1;33m\u001b[0m\u001b[1;33m\u001b[0m\u001b[0m\n\u001b[1;32m----> 3\u001b[1;33m \u001b[0mprint\u001b[0m\u001b[1;33m(\u001b[0m\u001b[0mx\u001b[0m \u001b[1;33m+\u001b[0m \u001b[0my\u001b[0m\u001b[1;33m)\u001b[0m\u001b[1;33m\u001b[0m\u001b[1;33m\u001b[0m\u001b[0m\n\u001b[0m",
      "\u001b[1;31mTypeError\u001b[0m: unsupported operand type(s) for +: 'int' and 'str'"
     ]
    }
   ],
   "source": [
    "x = 5\n",
    "y = \"John\"\n",
    "print(x + y)"
   ]
  },
  {
   "cell_type": "code",
   "execution_count": 8,
   "metadata": {},
   "outputs": [
    {
     "name": "stdout",
     "output_type": "stream",
     "text": [
      "<class 'int'>\n",
      "<class 'float'>\n",
      "<class 'complex'>\n",
      "1\n",
      "2.8\n",
      "1j\n"
     ]
    }
   ],
   "source": [
    "x = 1    # int\n",
    "y = 2.8  # float\n",
    "z = 1j   # complex\n",
    "print(type(x))\n",
    "print(type(y))\n",
    "print(type(z))\n",
    "print(x)\n",
    "print(y)\n",
    "print(z)\n",
    "\n"
   ]
  },
  {
   "cell_type": "code",
   "execution_count": 9,
   "metadata": {},
   "outputs": [
    {
     "name": "stdout",
     "output_type": "stream",
     "text": [
      "<class 'complex'>\n",
      "<class 'complex'>\n",
      "<class 'complex'>\n"
     ]
    }
   ],
   "source": [
    "x = 3+5j\n",
    "y = 5j\n",
    "z = -5j\n",
    "\n",
    "print(type(x))\n",
    "print(type(y))\n",
    "print(type(z))"
   ]
  },
  {
   "cell_type": "code",
   "execution_count": 12,
   "metadata": {},
   "outputs": [
    {
     "name": "stdout",
     "output_type": "stream",
     "text": [
      "Fibonacci sequence upto 5 :\n",
      "0 , 1 , 1 , 2 , 3 , "
     ]
    }
   ],
   "source": [
    "nterms = 5\n",
    "\n",
    "n1 = 0\n",
    "n2 = 1\n",
    "count = 0\n",
    "\n",
    "if nterms <= 0:\n",
    "   print(\"Please enter a positive integer\")\n",
    "elif nterms == 1:\n",
    "   print(\"Fibonacci sequence upto\",nterms,\":\")\n",
    "   print(n1)\n",
    "else:\n",
    "   print(\"Fibonacci sequence upto\",nterms,\":\")\n",
    "   while count < nterms:\n",
    "       print(n1,end=' , ')\n",
    "       nth = n1 + n2\n",
    "       # update values\n",
    "       n1 = n2\n",
    "       n2 = nth\n",
    "       count += 1"
   ]
  },
  {
   "cell_type": "code",
   "execution_count": 30,
   "metadata": {},
   "outputs": [
    {
     "name": "stdout",
     "output_type": "stream",
     "text": [
      "x is: 1\n",
      "Y is: 2\n",
      "Z is: 5\n",
      "Reult is: 3\n",
      "Reult is: 6\n"
     ]
    }
   ],
   "source": [
    "x = int(1)   # x will be 1\n",
    "y = int(2.8) # y will be 2\n",
    "z = int(\"5\") # z will be 3\n",
    "print(\"x is:\",x)\n",
    "print(\"Y is:\",y)\n",
    "print(\"Z is:\",z)\n",
    "res=x+y\n",
    "print(\"Reult is:\",res)\n",
    "res1=x+z\n",
    "print(\"Reult is:\",res1)"
   ]
  },
  {
   "cell_type": "code",
   "execution_count": 31,
   "metadata": {},
   "outputs": [
    {
     "name": "stdout",
     "output_type": "stream",
     "text": [
      "x is: 1.0\n",
      "Y is: 2\n",
      "Z is: 3.0\n",
      "Reult is: 3.0\n",
      "Reult is: 4.0\n"
     ]
    }
   ],
   "source": [
    "x = float(1)   # x will be 1\n",
    "y = int(2.8) # y will be 2\n",
    "z = float(\"3\") # z will be 3\n",
    "print(\"x is:\",x)\n",
    "print(\"Y is:\",y)\n",
    "print(\"Z is:\",z)\n",
    "res=x+y\n",
    "print(\"Reult is:\",res)\n",
    "res1=x+z\n",
    "print(\"Reult is:\",res1)\n"
   ]
  },
  {
   "cell_type": "code",
   "execution_count": 33,
   "metadata": {},
   "outputs": [
    {
     "name": "stdout",
     "output_type": "stream",
     "text": [
      "x is: 1.0\n",
      "Y is: 2.8\n",
      "Z is: 3.0\n",
      "W is: 4.2\n",
      "Reult is: 3.8\n",
      "Reult is: 4.0\n"
     ]
    }
   ],
   "source": [
    "x = float(1)     # x will be 1.0\n",
    "y = float(2.8)   # y will be 2.8\n",
    "z = float(\"3\")   # z will be 3.0\n",
    "w = float(\"4.2\") # w will be 4.2\n",
    "print(\"x is:\",x)\n",
    "print(\"Y is:\",y)\n",
    "print(\"Z is:\",z)\n",
    "print(\"W is:\",w)\n",
    "res=x+y\n",
    "print(\"Reult is:\",res)\n",
    "res1=x+z\n",
    "print(\"Reult is:\",res1)"
   ]
  },
  {
   "cell_type": "code",
   "execution_count": 44,
   "metadata": {},
   "outputs": [
    {
     "name": "stdout",
     "output_type": "stream",
     "text": [
      "x is: s1\n",
      "Y is: 2\n",
      "Z is: 3.0\n",
      "W is: 4\n"
     ]
    },
    {
     "ename": "TypeError",
     "evalue": "unsupported operand type(s) for +: 'int' and 'str'",
     "output_type": "error",
     "traceback": [
      "\u001b[1;31m---------------------------------------------------------------------------\u001b[0m",
      "\u001b[1;31mTypeError\u001b[0m                                 Traceback (most recent call last)",
      "\u001b[1;32m<ipython-input-44-4ea27895849e>\u001b[0m in \u001b[0;36m<module>\u001b[1;34m\u001b[0m\n\u001b[0;32m      7\u001b[0m \u001b[0mprint\u001b[0m\u001b[1;33m(\u001b[0m\u001b[1;34m\"Z is:\"\u001b[0m\u001b[1;33m,\u001b[0m\u001b[0mz\u001b[0m\u001b[1;33m)\u001b[0m\u001b[1;33m\u001b[0m\u001b[1;33m\u001b[0m\u001b[0m\n\u001b[0;32m      8\u001b[0m \u001b[0mprint\u001b[0m\u001b[1;33m(\u001b[0m\u001b[1;34m\"W is:\"\u001b[0m\u001b[1;33m,\u001b[0m\u001b[0mw\u001b[0m\u001b[1;33m)\u001b[0m\u001b[1;33m\u001b[0m\u001b[1;33m\u001b[0m\u001b[0m\n\u001b[1;32m----> 9\u001b[1;33m \u001b[0mres\u001b[0m\u001b[1;33m=\u001b[0m\u001b[0mw\u001b[0m\u001b[1;33m+\u001b[0m\u001b[0mx\u001b[0m\u001b[1;33m\u001b[0m\u001b[1;33m\u001b[0m\u001b[0m\n\u001b[0m\u001b[0;32m     10\u001b[0m \u001b[0mprint\u001b[0m\u001b[1;33m(\u001b[0m\u001b[1;34m\"Result is:\"\u001b[0m\u001b[1;33m,\u001b[0m\u001b[0mres\u001b[0m\u001b[1;33m)\u001b[0m\u001b[1;33m\u001b[0m\u001b[1;33m\u001b[0m\u001b[0m\n\u001b[0;32m     11\u001b[0m \u001b[0mres1\u001b[0m\u001b[1;33m=\u001b[0m\u001b[0mx\u001b[0m\u001b[1;33m+\u001b[0m\u001b[0mz\u001b[0m\u001b[1;33m\u001b[0m\u001b[1;33m\u001b[0m\u001b[0m\n",
      "\u001b[1;31mTypeError\u001b[0m: unsupported operand type(s) for +: 'int' and 'str'"
     ]
    }
   ],
   "source": [
    "x = str(\"s1\") # x will be 's1'\n",
    "y = str(2)    # y will be '2'\n",
    "z = str(3.0)  # z will be '3.0'\n",
    "w = int(\"4\")\n",
    "print(\"x is:\",x)\n",
    "print(\"Y is:\",y)\n",
    "print(\"Z is:\",z)\n",
    "print(\"W is:\",w)\n",
    "res=w+x\n",
    "print(\"Result is:\",res)\n",
    "res1=x+z\n",
    "print(\"Reult is:\",res1)\n",
    "\n"
   ]
  },
  {
   "cell_type": "code",
   "execution_count": 50,
   "metadata": {},
   "outputs": [
    {
     "name": "stdout",
     "output_type": "stream",
     "text": [
      "!\n"
     ]
    }
   ],
   "source": [
    "a = \"Hello, World!\"\n",
    "print(a[12])"
   ]
  },
  {
   "cell_type": "code",
   "execution_count": 52,
   "metadata": {},
   "outputs": [
    {
     "name": "stdout",
     "output_type": "stream",
     "text": [
      "llo,\n"
     ]
    }
   ],
   "source": [
    "b = \"Hello, World!\"\n",
    "print(b[2:6])"
   ]
  },
  {
   "cell_type": "code",
   "execution_count": 56,
   "metadata": {},
   "outputs": [
    {
     "name": "stdout",
     "output_type": "stream",
     "text": [
      "Hello, World!\n"
     ]
    }
   ],
   "source": [
    "a = \" Hello, World! \"\n",
    "res=print(a.strip()) # returns \"Hello, World!\"\n",
    "#print(res)"
   ]
  },
  {
   "cell_type": "code",
   "execution_count": 58,
   "metadata": {},
   "outputs": [
    {
     "name": "stdout",
     "output_type": "stream",
     "text": [
      "length of a is 13\n"
     ]
    }
   ],
   "source": [
    "a = \"Hello, World!\"\n",
    "print(\"length of a is\",len(a))"
   ]
  },
  {
   "cell_type": "code",
   "execution_count": 59,
   "metadata": {},
   "outputs": [
    {
     "name": "stdout",
     "output_type": "stream",
     "text": [
      "hello, world!\n"
     ]
    }
   ],
   "source": [
    "a = \"Hello, World!\"\n",
    "print(a.lower())"
   ]
  },
  {
   "cell_type": "code",
   "execution_count": 60,
   "metadata": {},
   "outputs": [
    {
     "name": "stdout",
     "output_type": "stream",
     "text": [
      "HELLO, WORLD!\n"
     ]
    }
   ],
   "source": [
    "a = \"Hello, World!\"\n",
    "print(a.upper())"
   ]
  },
  {
   "cell_type": "code",
   "execution_count": 61,
   "metadata": {},
   "outputs": [
    {
     "name": "stdout",
     "output_type": "stream",
     "text": [
      "Jello, Jorld!\n"
     ]
    }
   ],
   "source": [
    "a = \"Hello, Horld!\"\n",
    "print(a.replace(\"H\", \"J\"))"
   ]
  },
  {
   "cell_type": "code",
   "execution_count": 66,
   "metadata": {},
   "outputs": [
    {
     "name": "stdout",
     "output_type": "stream",
     "text": [
      "['Hello', ' Wo', 'rld!']\n"
     ]
    }
   ],
   "source": [
    "a = \"Hello, Wo,rld!\"\n",
    "print(a.split(\",\"))\n"
   ]
  },
  {
   "cell_type": "code",
   "execution_count": 71,
   "metadata": {},
   "outputs": [
    {
     "name": "stdout",
     "output_type": "stream",
     "text": [
      "True\n",
      "False\n",
      "True\n"
     ]
    }
   ],
   "source": [
    "def sleep_in(weekday, vacation):\n",
    "    if not weekday or vacation:\n",
    "        return True\n",
    "    else:\n",
    "        return False\n",
    "print(sleep_in(False,False))\n",
    "print(sleep_in(True,False))\n",
    "print(sleep_in(False,True))"
   ]
  },
  {
   "cell_type": "code",
   "execution_count": 5,
   "metadata": {},
   "outputs": [
    {
     "name": "stdout",
     "output_type": "stream",
     "text": [
      "100\n"
     ]
    }
   ],
   "source": [
    "x = 10\n",
    "y = 2\n",
    "\n",
    "print(x ** y)"
   ]
  },
  {
   "cell_type": "code",
   "execution_count": 7,
   "metadata": {},
   "outputs": [
    {
     "name": "stdout",
     "output_type": "stream",
     "text": [
      "['apple', 'banana', 'cherry', 'ball']\n"
     ]
    }
   ],
   "source": [
    "thislist = [\"apple\", \"banana\", \"cherry\",\"ball\"]\n",
    "print(thislist)"
   ]
  },
  {
   "cell_type": "code",
   "execution_count": 11,
   "metadata": {},
   "outputs": [
    {
     "name": "stdout",
     "output_type": "stream",
     "text": [
      "cherry\n"
     ]
    }
   ],
   "source": [
    "thislist = [\"apple\", \"banana\", \"cherry\"]\n",
    "print(thislist[2])"
   ]
  },
  {
   "cell_type": "code",
   "execution_count": 14,
   "metadata": {},
   "outputs": [
    {
     "name": "stdout",
     "output_type": "stream",
     "text": [
      "['blackcurrant', 'banana', 'cherry']\n"
     ]
    }
   ],
   "source": [
    "thislist = [\"apple\", \"banana\", \"cherry\"]\n",
    "thislist[0] = \"blackcurrant\"\n",
    "print(thislist)"
   ]
  },
  {
   "cell_type": "code",
   "execution_count": 27,
   "metadata": {},
   "outputs": [
    {
     "name": "stdout",
     "output_type": "stream",
     "text": [
      "apple\n",
      "banana\n",
      "cherry\n"
     ]
    }
   ],
   "source": [
    "thislist = [\"apple\", \"banana\", \"cherry\"]\n",
    "for x in thislist:\n",
    "  print(x)"
   ]
  },
  {
   "cell_type": "code",
   "execution_count": 23,
   "metadata": {},
   "outputs": [
    {
     "name": "stdout",
     "output_type": "stream",
     "text": [
      "a\n",
      "p\n",
      "p\n",
      "l\n",
      "e\n"
     ]
    }
   ],
   "source": [
    "thislist = [\"apple\", \"banana\", \"cherry\"]\n",
    "for x in thislist[0]:\n",
    "  print(x)"
   ]
  },
  {
   "cell_type": "code",
   "execution_count": 31,
   "metadata": {},
   "outputs": [
    {
     "name": "stdout",
     "output_type": "stream",
     "text": [
      "Yes, 'apple' is in the fruits list\n"
     ]
    }
   ],
   "source": [
    "thislist = [\"apple\", \"banana\", \"cherry\"]\n",
    "if \"apple\" in thislist:\n",
    "  print(\"Yes, 'apple' is in the fruits list\")"
   ]
  },
  {
   "cell_type": "code",
   "execution_count": 32,
   "metadata": {},
   "outputs": [
    {
     "name": "stdout",
     "output_type": "stream",
     "text": [
      "3\n"
     ]
    }
   ],
   "source": [
    "thislist = [\"apple\", \"banana\", \"cherry\"]\n",
    "print(len(thislist))\n",
    "       "
   ]
  },
  {
   "cell_type": "code",
   "execution_count": 33,
   "metadata": {},
   "outputs": [
    {
     "name": "stdout",
     "output_type": "stream",
     "text": [
      "1\n"
     ]
    }
   ],
   "source": [
    "thislist = [\"apple\"]\n",
    "print(len(thislist))"
   ]
  },
  {
   "cell_type": "code",
   "execution_count": 39,
   "metadata": {},
   "outputs": [
    {
     "name": "stdout",
     "output_type": "stream",
     "text": [
      "['apple', 'banana', 'cherry', 'orange']\n",
      "apple\n",
      "banana\n",
      "cherry\n",
      "orange\n",
      "4\n"
     ]
    }
   ],
   "source": [
    "thislist = [\"apple\", \"banana\", \"cherry\"]\n",
    "thislist.append(\"orange\")\n",
    "print(thislist)\n",
    "for x  in thislist:\n",
    "    print(x)\n",
    "    \n",
    "print(len(thislist))"
   ]
  },
  {
   "cell_type": "code",
   "execution_count": 47,
   "metadata": {},
   "outputs": [
    {
     "name": "stdout",
     "output_type": "stream",
     "text": [
      "['apple', 'banana', 'cherry', 'orange']\n",
      "orange\n"
     ]
    }
   ],
   "source": [
    "thislist = [\"apple\", \"banana\", \"cherry\"]\n",
    "thislist.insert(5, \"orange\")\n",
    "print(thislist)\n",
    "print(thislist[3])"
   ]
  },
  {
   "cell_type": "code",
   "execution_count": 53,
   "metadata": {},
   "outputs": [
    {
     "name": "stdout",
     "output_type": "stream",
     "text": [
      "Before removing\n",
      "['apple', 'banana', 'cherry']\n",
      "After removing\n",
      "['banana', 'cherry']\n"
     ]
    }
   ],
   "source": [
    "thislist = [\"apple\", \"banana\", \"cherry\"]\n",
    "print(\"Before removing\")\n",
    "print(thislist)\n",
    "\n",
    "thislist.remove(\"apple\")\n",
    "\n",
    "print(\"After removing\")\n",
    "print(thislist)"
   ]
  },
  {
   "cell_type": "code",
   "execution_count": 69,
   "metadata": {},
   "outputs": [
    {
     "name": "stdout",
     "output_type": "stream",
     "text": [
      "['apple', 'banana']\n"
     ]
    }
   ],
   "source": [
    "thislist = [\"apple\", \"banana\", \"cherry\"]\n",
    "thislist.pop()\n",
    "print(thislist)\n"
   ]
  },
  {
   "cell_type": "code",
   "execution_count": 66,
   "metadata": {},
   "outputs": [
    {
     "name": "stdout",
     "output_type": "stream",
     "text": [
      "['banana', 'cherry']\n"
     ]
    }
   ],
   "source": [
    "thislist = [\"apple\", \"banana\", \"cherry\"]\n",
    "del thislist[0]\n",
    "print(thislist)\n"
   ]
  },
  {
   "cell_type": "code",
   "execution_count": 76,
   "metadata": {},
   "outputs": [
    {
     "name": "stdout",
     "output_type": "stream",
     "text": [
      "Before deleting\n",
      "['apple', 'banana', 'cherry']\n",
      "After deleting\n"
     ]
    }
   ],
   "source": [
    "thislist = [\"apple\", \"banana\", \"cherry\"]\n",
    "print(\"Before deleting\")\n",
    "print(thislist)\n",
    "print(\"After deleting\")\n",
    "del thislist\n"
   ]
  },
  {
   "cell_type": "code",
   "execution_count": 3,
   "metadata": {},
   "outputs": [
    {
     "name": "stdout",
     "output_type": "stream",
     "text": [
      "[]\n",
      "['hello']\n"
     ]
    }
   ],
   "source": [
    "thislist = [\"apple\", \"banana\", \"cherry\"]\n",
    "thislist.clear()\n",
    "print(thislist)\n",
    "thislist.insert(0,\"hello\")\n",
    "print(thislist)"
   ]
  },
  {
   "cell_type": "code",
   "execution_count": 4,
   "metadata": {},
   "outputs": [
    {
     "name": "stdout",
     "output_type": "stream",
     "text": [
      "['apple', 'banana', 'cherry']\n",
      "[]\n"
     ]
    }
   ],
   "source": [
    "thislist = [\"apple\", \"banana\", \"cherry\"]\n",
    "print(thislist)\n",
    "thislist.clear()\n",
    "print(thislist)"
   ]
  },
  {
   "cell_type": "code",
   "execution_count": 7,
   "metadata": {},
   "outputs": [
    {
     "name": "stdout",
     "output_type": "stream",
     "text": [
      "thislist Data ['apple', 'banana', 'cherry']\n",
      "mylist Data ['apple', 'banana', 'cherry']\n"
     ]
    }
   ],
   "source": [
    "thislist = [\"apple\", \"banana\", \"cherry\"]\n",
    "print(\"thislist Data\",thislist)\n",
    "mylist = thislist.copy()\n",
    "print(\"mylist Data\",mylist)"
   ]
  },
  {
   "cell_type": "code",
   "execution_count": 8,
   "metadata": {},
   "outputs": [
    {
     "name": "stdout",
     "output_type": "stream",
     "text": [
      "['apple', 'banana', 'cherry']\n"
     ]
    }
   ],
   "source": [
    "thislist = [\"apple\", \"banana\", \"cherry\"]\n",
    "mylist = list(thislist)\n",
    "print(mylist)"
   ]
  },
  {
   "cell_type": "code",
   "execution_count": 9,
   "metadata": {},
   "outputs": [
    {
     "name": "stdout",
     "output_type": "stream",
     "text": [
      "['apple', 'banana', 'cherry']\n"
     ]
    }
   ],
   "source": [
    "thislist = list((\"apple\", \"banana\", \"cherry\")) # note the double round-brackets\n",
    "print(thislist)"
   ]
  },
  {
   "cell_type": "code",
   "execution_count": 11,
   "metadata": {},
   "outputs": [
    {
     "name": "stdout",
     "output_type": "stream",
     "text": [
      "['apple', 'banana', 'cherry', 'apple']\n",
      "1\n",
      "2\n",
      "['apple', 'banana', 'cherry', 'apple']\n",
      "['apple', 'banana', 'cherry', 'apple', 'hi', 'hello']\n",
      "['hello', 'hi', 'apple', 'cherry', 'banana', 'apple']\n",
      "['apple', 'apple', 'banana', 'cherry', 'hello', 'hi']\n",
      "['apple', 'banana', 'cherry', 'hello', 'hi']\n",
      "['hi']\n"
     ]
    }
   ],
   "source": [
    "thislist = [\"apple\", \"banana\", \"cherry\",\"apple\"]\n",
    "mlist=[\"hi\",\"hello\"]\n",
    "print(thislist)\n",
    "print(thislist.index(\"banana\"))\n",
    "print(thislist.count(\"apple\"))\n",
    "mylist=thislist.copy()\n",
    "print(mylist)\n",
    "thislist.extend(mlist)\n",
    "print(thislist)\n",
    "thislist.reverse()\n",
    "print(thislist)\n",
    "thislist.sort()\n",
    "print(thislist)\n",
    "thislist.remove(\"apple\")\n",
    "print(thislist)\n",
    "thislist.clear()\n",
    "thislist.append(\"hi\")\n",
    "print(thislist)\n"
   ]
  },
  {
   "cell_type": "code",
   "execution_count": 27,
   "metadata": {},
   "outputs": [
    {
     "name": "stdout",
     "output_type": "stream",
     "text": [
      "{'brand': 'Ford', 'model': 'Mustang', 'year': 1964}\n",
      "Mustang\n",
      "{'brand': 'Ford', 'model': 'Mustang', 'year': 2018}\n",
      "brand\n",
      "model\n",
      "year\n",
      "Ford\n",
      "Mustang\n",
      "2018\n",
      "Ford\n",
      "Mustang\n",
      "2018\n",
      "Yes, 'model' is one of the keys in the thisdict dictionary\n",
      "3\n",
      "{'brand': 'Ford', 'model': 'Mustang', 'year': 2018, 'color': 'red'}\n",
      "{'brand': 'Ford', 'model': 'Mustang', 'year': 2018, 'color': 'red'}\n",
      "{'brand': 'Ford', 'year': 2018, 'color': 'red'}\n",
      "{'brand': 'Ford', 'year': 2018}\n"
     ]
    }
   ],
   "source": [
    "thisdict ={\n",
    "  \"brand\": \"Ford\",\n",
    "  \"model\": \"Mustang\",\n",
    "  \"year\": 1964\n",
    "}\n",
    "print(thisdict)\n",
    "x = thisdict[\"model\"]\n",
    "print(x)\n",
    "thisdict[\"year\"] = 2018\n",
    "print(thisdict)\n",
    "for x in thisdict:\n",
    "  print(x)\n",
    "for x in thisdict:\n",
    "  print(thisdict[x])\n",
    "for x in thisdict.values():\n",
    "  print(x)\n",
    "if \"model\" in thisdict:\n",
    "  print(\"Yes, 'model' is one of the keys in the thisdict dictionary\")\n",
    "print(len(thisdict))\n",
    "thisdict[\"color\"] = \"red\"\n",
    "print(thisdict)\n",
    "mydict = thisdict.copy()\n",
    "print(mydict)\n",
    "thisdict.pop(\"model\")\n",
    "print(thisdict)\n",
    "thisdict.popitem()\n",
    "print(thisdict)"
   ]
  },
  {
   "cell_type": "code",
   "execution_count": 30,
   "metadata": {},
   "outputs": [
    {
     "data": {
      "text/plain": [
       "False"
      ]
     },
     "execution_count": 30,
     "metadata": {},
     "output_type": "execute_result"
    }
   ],
   "source": [
    "def checkDivisibility(n):\n",
    "    if(n%2 ==0 and n%3==0 and n%4!=0):\n",
    "        return True\n",
    "    else:\n",
    "        return False\n",
    "checkDivisibility(16)"
   ]
  },
  {
   "cell_type": "code",
   "execution_count": 10,
   "metadata": {},
   "outputs": [
    {
     "name": "stdout",
     "output_type": "stream",
     "text": [
      "True\n",
      "True\n",
      "True\n",
      "False\n",
      "False\n",
      "False\n"
     ]
    }
   ],
   "source": [
    "def pos_neg(n1,n2,b):\n",
    "    if (n1<0 and n2>0 and b==False) or (n1>0 and n2<0 and b==False) or (n1<0 and n2<0 and b==True):\n",
    "        return True\n",
    "    elif(n1>0 and n2<0 and b==True) or (n1<0 and n2>0 and b==True) or (n1>0 and n2>0 and b==False):\n",
    "        return False\n",
    "    else:\n",
    "        return False\n",
    "    \n",
    "print(pos_neg(1,-1,False))\n",
    "print(pos_neg(-1,1,False))\n",
    "print(pos_neg(-4,-5,True))\n",
    "print(pos_neg(-1,1,True))\n",
    "print(pos_neg(1,6,True))\n",
    "print(pos_neg(-1,-9,False))"
   ]
  },
  {
   "cell_type": "code",
   "execution_count": 13,
   "metadata": {},
   "outputs": [
    {
     "name": "stdout",
     "output_type": "stream",
     "text": [
      "True\n",
      "True\n",
      "True\n",
      "False\n",
      "False\n",
      "False\n"
     ]
    }
   ],
   "source": [
    "def pos_neg(n1,n2,b):\n",
    "    return (n1<0 and n2>0 and b==False) or (n1>0 and n2<0 and b==False) or (n1<0 and n2<0 and b==True)\n",
    "print(pos_neg(1,-1,False))\n",
    "print(pos_neg(-1,1,False))\n",
    "print(pos_neg(-4,-5,True))\n",
    "print(pos_neg(-1,1,True))\n",
    "print(pos_neg(1,6,True))\n",
    "print(pos_neg(-1,-9,False))"
   ]
  },
  {
   "cell_type": "code",
   "execution_count": 33,
   "metadata": {},
   "outputs": [
    {
     "data": {
      "text/plain": [
       "84"
      ]
     },
     "execution_count": 33,
     "metadata": {},
     "output_type": "execute_result"
    }
   ],
   "source": [
    "import random\n",
    "def randomGenerator(lb,ub):\n",
    "    return random.randrange(lb+1,ub)\n",
    "#random.randrange(1,101,1)\n",
    "randomGenerator(1,101)"
   ]
  },
  {
   "cell_type": "code",
   "execution_count": 32,
   "metadata": {},
   "outputs": [
    {
     "data": {
      "text/plain": [
       "5055298440437359"
      ]
     },
     "execution_count": 32,
     "metadata": {},
     "output_type": "execute_result"
    }
   ],
   "source": [
    "import random\n",
    "def sumRandomNumbers(n,lb,ub):\n",
    "    sum=0\n",
    "    for i in range (1,n+1):\n",
    "        sum=sum+random.randint(lb,ub)\n",
    "    return sum\n",
    "sumRandomNumbers(100,0,100000000000000)"
   ]
  },
  {
   "cell_type": "code",
   "execution_count": 64,
   "metadata": {},
   "outputs": [
    {
     "name": "stdout",
     "output_type": "stream",
     "text": [
      "enter length of Values:5\n",
      "enter n values:1\n",
      "enter n values:4\n",
      "enter n values:8\n",
      "enter n values:0\n",
      "enter n values:5\n"
     ]
    },
    {
     "data": {
      "text/plain": [
       "2"
      ]
     },
     "execution_count": 64,
     "metadata": {},
     "output_type": "execute_result"
    }
   ],
   "source": [
    "#a=[1,4,8,0,3,5,6]\n",
    "#1 in a // it returns true or false\n",
    "n=input(\"enter length of Values:\")\n",
    "n=int(n)\n",
    "for i in range(0,n):\n",
    "    a[i]=input(\"enter n values:\")\n",
    "    a[i]=int(a[i])\n",
    "def linearSearch(a,key):\n",
    "    for i in range (0,len(a)-1):\n",
    "        if(a[i]==key):\n",
    "            return i\n",
    "    return -1\n",
    "linearSearch(a,8)"
   ]
  },
  {
   "cell_type": "code",
   "execution_count": 7,
   "metadata": {},
   "outputs": [
    {
     "name": "stdout",
     "output_type": "stream",
     "text": [
      "enter n value:10\n"
     ]
    },
    {
     "data": {
      "text/plain": [
       "3628800"
      ]
     },
     "execution_count": 7,
     "metadata": {},
     "output_type": "execute_result"
    }
   ],
   "source": [
    "n=input(\"enter n value:\")\n",
    "n=int(n)\n",
    "def factorial(n):\n",
    "    if n == 1:\n",
    "        return 1\n",
    "    else:\n",
    "        return n * factorial(n-1)\n",
    "factorial(n)"
   ]
  },
  {
   "cell_type": "code",
   "execution_count": 14,
   "metadata": {},
   "outputs": [
    {
     "data": {
      "text/plain": [
       "2"
      ]
     },
     "execution_count": 14,
     "metadata": {},
     "output_type": "execute_result"
    }
   ],
   "source": [
    "\n",
    "def power(n,r):\n",
    "    prod=1\n",
    "    for i in range(n,r+1):\n",
    "        prod*=n\n",
    "    return n\n",
    "power(2,1)"
   ]
  },
  {
   "cell_type": "code",
   "execution_count": 23,
   "metadata": {},
   "outputs": [
    {
     "name": "stdout",
     "output_type": "stream",
     "text": [
      "enter lower value:2\n",
      "enter upper value:3\n"
     ]
    },
    {
     "data": {
      "text/plain": [
       "8"
      ]
     },
     "execution_count": 23,
     "metadata": {},
     "output_type": "execute_result"
    }
   ],
   "source": [
    "n=input(\"enter lower value:\")\n",
    "n=int(n)\n",
    "r=input(\"enter upper value:\")\n",
    "r=int(r)\n",
    "def rPower(n,r):\n",
    "    if r==1:\n",
    "        return n\n",
    "    else:\n",
    "        return rPower(n,r-1)*n\n",
    "rPower(n,r)"
   ]
  },
  {
   "cell_type": "code",
   "execution_count": 30,
   "metadata": {},
   "outputs": [
    {
     "name": "stdout",
     "output_type": "stream",
     "text": [
      "enter a value:4\n",
      "enter b value2\n",
      "The gcd of (a,b) value is : 2\n"
     ]
    }
   ],
   "source": [
    "a=input(\"enter a value:\")\n",
    "a=int(a)\n",
    "b=input(\"enter b value\")\n",
    "b=int(b)\n",
    "def gcd(a,b): \n",
    "    if(b==0): \n",
    "        return a \n",
    "    else: \n",
    "        return gcd(b,a%b) \n",
    "  \n",
    "print(\"The gcd of (a,b) value is : \",end=\"\") \n",
    "print (gcd(a,b)) "
   ]
  },
  {
   "cell_type": "code",
   "execution_count": 37,
   "metadata": {},
   "outputs": [
    {
     "name": "stdout",
     "output_type": "stream",
     "text": [
      "move  1  from A to B\n",
      "move 2 from A  to C\n",
      "move  1  from B to C\n",
      "move 3 from A  to B\n",
      "move  1  from C to A\n",
      "move 2 from C  to B\n",
      "move  1  from A to B\n",
      "move 4 from A  to C\n",
      "move  1  from B to C\n",
      "move 2 from B  to A\n",
      "move  1  from C to A\n",
      "move 3 from B  to C\n",
      "move  1  from A to B\n",
      "move 2 from A  to C\n",
      "move  1  from B to C\n",
      "move 5 from A  to B\n",
      "move  1  from C to A\n",
      "move 2 from C  to B\n",
      "move  1  from A to B\n",
      "move 3 from C  to A\n",
      "move  1  from B to C\n",
      "move 2 from B  to A\n",
      "move  1  from C to A\n",
      "move 4 from C  to B\n",
      "move  1  from A to B\n",
      "move 2 from A  to C\n",
      "move  1  from B to C\n",
      "move 3 from A  to B\n",
      "move  1  from C to A\n",
      "move 2 from C  to B\n",
      "move  1  from A to B\n",
      "move 6 from A  to C\n",
      "move  1  from B to C\n",
      "move 2 from B  to A\n",
      "move  1  from C to A\n",
      "move 3 from B  to C\n",
      "move  1  from A to B\n",
      "move 2 from A  to C\n",
      "move  1  from B to C\n",
      "move 4 from B  to A\n",
      "move  1  from C to A\n",
      "move 2 from C  to B\n",
      "move  1  from A to B\n",
      "move 3 from C  to A\n",
      "move  1  from B to C\n",
      "move 2 from B  to A\n",
      "move  1  from C to A\n",
      "move 5 from B  to C\n",
      "move  1  from A to B\n",
      "move 2 from A  to C\n",
      "move  1  from B to C\n",
      "move 3 from A  to B\n",
      "move  1  from C to A\n",
      "move 2 from C  to B\n",
      "move  1  from A to B\n",
      "move 4 from A  to C\n",
      "move  1  from B to C\n",
      "move 2 from B  to A\n",
      "move  1  from C to A\n",
      "move 3 from B  to C\n",
      "move  1  from A to B\n",
      "move 2 from A  to C\n",
      "move  1  from B to C\n",
      "move 7 from A  to B\n",
      "move  1  from C to A\n",
      "move 2 from C  to B\n",
      "move  1  from A to B\n",
      "move 3 from C  to A\n",
      "move  1  from B to C\n",
      "move 2 from B  to A\n",
      "move  1  from C to A\n",
      "move 4 from C  to B\n",
      "move  1  from A to B\n",
      "move 2 from A  to C\n",
      "move  1  from B to C\n",
      "move 3 from A  to B\n",
      "move  1  from C to A\n",
      "move 2 from C  to B\n",
      "move  1  from A to B\n",
      "move 5 from C  to A\n",
      "move  1  from B to C\n",
      "move 2 from B  to A\n",
      "move  1  from C to A\n",
      "move 3 from B  to C\n",
      "move  1  from A to B\n",
      "move 2 from A  to C\n",
      "move  1  from B to C\n",
      "move 4 from B  to A\n",
      "move  1  from C to A\n",
      "move 2 from C  to B\n",
      "move  1  from A to B\n",
      "move 3 from C  to A\n",
      "move  1  from B to C\n",
      "move 2 from B  to A\n",
      "move  1  from C to A\n",
      "move 6 from C  to B\n",
      "move  1  from A to B\n",
      "move 2 from A  to C\n",
      "move  1  from B to C\n",
      "move 3 from A  to B\n",
      "move  1  from C to A\n",
      "move 2 from C  to B\n",
      "move  1  from A to B\n",
      "move 4 from A  to C\n",
      "move  1  from B to C\n",
      "move 2 from B  to A\n",
      "move  1  from C to A\n",
      "move 3 from B  to C\n",
      "move  1  from A to B\n",
      "move 2 from A  to C\n",
      "move  1  from B to C\n",
      "move 5 from A  to B\n",
      "move  1  from C to A\n",
      "move 2 from C  to B\n",
      "move  1  from A to B\n",
      "move 3 from C  to A\n",
      "move  1  from B to C\n",
      "move 2 from B  to A\n",
      "move  1  from C to A\n",
      "move 4 from C  to B\n",
      "move  1  from A to B\n",
      "move 2 from A  to C\n",
      "move  1  from B to C\n",
      "move 3 from A  to B\n",
      "move  1  from C to A\n",
      "move 2 from C  to B\n",
      "move  1  from A to B\n",
      "move 8 from A  to C\n",
      "move  1  from B to C\n",
      "move 2 from B  to A\n",
      "move  1  from C to A\n",
      "move 3 from B  to C\n",
      "move  1  from A to B\n",
      "move 2 from A  to C\n",
      "move  1  from B to C\n",
      "move 4 from B  to A\n",
      "move  1  from C to A\n",
      "move 2 from C  to B\n",
      "move  1  from A to B\n",
      "move 3 from C  to A\n",
      "move  1  from B to C\n",
      "move 2 from B  to A\n",
      "move  1  from C to A\n",
      "move 5 from B  to C\n",
      "move  1  from A to B\n",
      "move 2 from A  to C\n",
      "move  1  from B to C\n",
      "move 3 from A  to B\n",
      "move  1  from C to A\n",
      "move 2 from C  to B\n",
      "move  1  from A to B\n",
      "move 4 from A  to C\n",
      "move  1  from B to C\n",
      "move 2 from B  to A\n",
      "move  1  from C to A\n",
      "move 3 from B  to C\n",
      "move  1  from A to B\n",
      "move 2 from A  to C\n",
      "move  1  from B to C\n",
      "move 6 from B  to A\n",
      "move  1  from C to A\n",
      "move 2 from C  to B\n",
      "move  1  from A to B\n",
      "move 3 from C  to A\n",
      "move  1  from B to C\n",
      "move 2 from B  to A\n",
      "move  1  from C to A\n",
      "move 4 from C  to B\n",
      "move  1  from A to B\n",
      "move 2 from A  to C\n",
      "move  1  from B to C\n",
      "move 3 from A  to B\n",
      "move  1  from C to A\n",
      "move 2 from C  to B\n",
      "move  1  from A to B\n",
      "move 5 from C  to A\n",
      "move  1  from B to C\n",
      "move 2 from B  to A\n",
      "move  1  from C to A\n",
      "move 3 from B  to C\n",
      "move  1  from A to B\n",
      "move 2 from A  to C\n",
      "move  1  from B to C\n",
      "move 4 from B  to A\n",
      "move  1  from C to A\n",
      "move 2 from C  to B\n",
      "move  1  from A to B\n",
      "move 3 from C  to A\n",
      "move  1  from B to C\n",
      "move 2 from B  to A\n",
      "move  1  from C to A\n",
      "move 7 from B  to C\n",
      "move  1  from A to B\n",
      "move 2 from A  to C\n",
      "move  1  from B to C\n",
      "move 3 from A  to B\n",
      "move  1  from C to A\n",
      "move 2 from C  to B\n",
      "move  1  from A to B\n",
      "move 4 from A  to C\n",
      "move  1  from B to C\n",
      "move 2 from B  to A\n",
      "move  1  from C to A\n",
      "move 3 from B  to C\n",
      "move  1  from A to B\n",
      "move 2 from A  to C\n",
      "move  1  from B to C\n",
      "move 5 from A  to B\n",
      "move  1  from C to A\n",
      "move 2 from C  to B\n",
      "move  1  from A to B\n",
      "move 3 from C  to A\n",
      "move  1  from B to C\n",
      "move 2 from B  to A\n",
      "move  1  from C to A\n",
      "move 4 from C  to B\n",
      "move  1  from A to B\n",
      "move 2 from A  to C\n",
      "move  1  from B to C\n",
      "move 3 from A  to B\n",
      "move  1  from C to A\n",
      "move 2 from C  to B\n",
      "move  1  from A to B\n",
      "move 6 from A  to C\n",
      "move  1  from B to C\n",
      "move 2 from B  to A\n",
      "move  1  from C to A\n",
      "move 3 from B  to C\n",
      "move  1  from A to B\n",
      "move 2 from A  to C\n",
      "move  1  from B to C\n",
      "move 4 from B  to A\n",
      "move  1  from C to A\n",
      "move 2 from C  to B\n",
      "move  1  from A to B\n",
      "move 3 from C  to A\n",
      "move  1  from B to C\n",
      "move 2 from B  to A\n",
      "move  1  from C to A\n",
      "move 5 from B  to C\n",
      "move  1  from A to B\n",
      "move 2 from A  to C\n",
      "move  1  from B to C\n",
      "move 3 from A  to B\n",
      "move  1  from C to A\n",
      "move 2 from C  to B\n",
      "move  1  from A to B\n",
      "move 4 from A  to C\n",
      "move  1  from B to C\n",
      "move 2 from B  to A\n",
      "move  1  from C to A\n",
      "move 3 from B  to C\n",
      "move  1  from A to B\n",
      "move 2 from A  to C\n",
      "move  1  from B to C\n"
     ]
    }
   ],
   "source": [
    "def tHonai(n,s,t,d):\n",
    "    if n==1:\n",
    "        print('move ',n,' from',  s, 'to', d)\n",
    "        return \n",
    "    else:\n",
    "        tHonai(n-1,s,d,t)\n",
    "        print('move',n,'from', s,' to', d)\n",
    "        tHonai(n-1,t,s,d)\n",
    "tHonai(8,'A','B','C')"
   ]
  },
  {
   "cell_type": "code",
   "execution_count": null,
   "metadata": {},
   "outputs": [],
   "source": []
  },
  {
   "cell_type": "code",
   "execution_count": null,
   "metadata": {},
   "outputs": [],
   "source": []
  }
 ],
 "metadata": {
  "kernelspec": {
   "display_name": "Python 3",
   "language": "python",
   "name": "python3"
  },
  "language_info": {
   "codemirror_mode": {
    "name": "ipython",
    "version": 3
   },
   "file_extension": ".py",
   "mimetype": "text/x-python",
   "name": "python",
   "nbconvert_exporter": "python",
   "pygments_lexer": "ipython3",
   "version": "3.7.3"
  }
 },
 "nbformat": 4,
 "nbformat_minor": 2
}
