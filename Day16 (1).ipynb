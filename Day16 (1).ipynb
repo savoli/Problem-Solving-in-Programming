{
 "cells": [
  {
   "cell_type": "markdown",
   "metadata": {},
   "source": []
  },
  {
   "cell_type": "code",
   "execution_count": 22,
   "metadata": {},
   "outputs": [
    {
     "name": "stdout",
     "output_type": "stream",
     "text": [
      "900\n"
     ]
    }
   ],
   "source": [
    "\n",
    "\n",
    " #n=input(\"enter value:\")\n",
    "\n",
    "def check90(n):\n",
    "    m=str(n)\n",
    "    for i in range(0,len(m)):\n",
    "        if(m[i]=='0' or m[i]=='9'):\n",
    "            continue\n",
    "        else:\n",
    "            return 0\n",
    "    return 1\n",
    "def multiple(n):\n",
    "    i=1\n",
    "    #for i in range(1,9999999999999999):\n",
    "    while(True):\n",
    "        if(check90(i)):\n",
    "            if(i%n==0):\n",
    "                print(i)\n",
    "                break\n",
    "        i+=1\n",
    "multiple(900)"
   ]
  },
  {
   "cell_type": "markdown",
   "metadata": {},
   "source": [
    "#Problem Statement2\n",
    "Printing the sequence of Matrix elements for given elements"
   ]
  },
  {
   "cell_type": "code",
   "execution_count": 69,
   "metadata": {},
   "outputs": [
    {
     "name": "stdout",
     "output_type": "stream",
     "text": [
      "1 2 3 6 9 8 7 4 "
     ]
    }
   ],
   "source": [
    "def rowPrint(a,r,c):\n",
    "    for i in range (0,c):\n",
    "        print(a[r][i],end=' ')\n",
    "        #print(a[i][r],end=' ')\n",
    "def colPrint(a,c,nr):\n",
    "    for i in range(1,nr):\n",
    "        print(a[i][c],end=' ')\n",
    "def rrPrint(a,r,c):\n",
    "    for i in range (c-2,-1,-1):\n",
    "        print(a[r][i],end=' ')\n",
    "def ccPrint(a,c,nr):\n",
    "    for i in range(nr-2,-1,-2):\n",
    "        print(a[i][c],end=' ')\n",
    "\n",
    "m1=[[1,2,3],[4,5,6],[7,8,9]]\n",
    "rowPrint(m1,0,3)\n",
    "colPrint(m1,2,3)\n",
    "rrPrint(m1,2,3)\n",
    "ccPrint(m1,0,3)"
   ]
  },
  {
   "cell_type": "code",
   "execution_count": null,
   "metadata": {},
   "outputs": [],
   "source": []
  },
  {
   "cell_type": "code",
   "execution_count": null,
   "metadata": {},
   "outputs": [],
   "source": []
  }
 ],
 "metadata": {
  "kernelspec": {
   "display_name": "Python 3",
   "language": "python",
   "name": "python3"
  },
  "language_info": {
   "codemirror_mode": {
    "name": "ipython",
    "version": 3
   },
   "file_extension": ".py",
   "mimetype": "text/x-python",
   "name": "python",
   "nbconvert_exporter": "python",
   "pygments_lexer": "ipython3",
   "version": "3.7.3"
  }
 },
 "nbformat": 4,
 "nbformat_minor": 2
}
