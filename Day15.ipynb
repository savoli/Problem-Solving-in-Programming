{
 "cells": [
  {
   "cell_type": "markdown",
   "metadata": {},
   "source": [
    "# PROBLEM SOLVING AND PROGRAMMING\n",
    "day no :15\n",
    "date :13-05-19\n",
    "Day Objectives\n",
    "Objective1\n",
    "Objective2\n",
    "Objective3\n",
    "Problem 1\n",
    "# Problem Statement:\n",
    "You are given n words. Some words may repeat. For each word, output its number of occurrences. The output order should correspond with the input order of appearance of the word. First line of input contains the total number of words n. Next n lines contain words that need to processed.\n",
    "\n",
    "First line of the output should contain the total number distinct words. Second line of output must contain the frequency of words the same order of their appearance as in the input\n",
    "\n",
    "TESTCASES:\n",
    "Sample Input : 6\n",
    "\n",
    "abcd\n",
    "\n",
    "ijkl\n",
    "\n",
    "abcd\n",
    "\n",
    "pqrs\n",
    "\n",
    "abcd\n",
    "\n",
    "ijkl\n",
    "\n",
    "Sample Output : 3\n",
    "\n",
    "3 2 1\n",
    "\n"
   ]
  },
  {
   "cell_type": "code",
   "execution_count": 1,
   "metadata": {},
   "outputs": [
    {
     "name": "stdout",
     "output_type": "stream",
     "text": [
      "{'abcd': 3, 'ijkl': 2, 'pqrs': 1}\n"
     ]
    }
   ],
   "source": [
    "def word_count(str):\n",
    "    counts = dict()\n",
    "    words = str.split()\n",
    "\n",
    "    for word in words:\n",
    "        if word in counts:\n",
    "            counts[word] += 1\n",
    "        else:\n",
    "            counts[word] = 1\n",
    "\n",
    "    return counts\n",
    "\n",
    "print( word_count(\"abcd ijkl abcd pqrs abcd ijkl\"))"
   ]
  },
  {
   "cell_type": "code",
   "execution_count": 2,
   "metadata": {},
   "outputs": [
    {
     "name": "stdout",
     "output_type": "stream",
     "text": [
      "3\n",
      "3 2 1 "
     ]
    }
   ],
   "source": [
    "def occurence(ln,li):\n",
    "    li=['abcd','ijkl','abcd','pqrs','abcd','ijkl']\n",
    "    u=unique(li)\n",
    "    print(len(u))\n",
    "    for i in range(0,len(u)):\n",
    "        count=0\n",
    "        for j in range(0,len(li)):\n",
    "            if u[i]==li[j]:\n",
    "                count=count+1\n",
    "        print(count,end=' ')\n",
    "\n",
    "def unique(li):\n",
    "    u=[]\n",
    "    u.append(li[0])\n",
    "    for x in li:\n",
    "        if x not in u:\n",
    "            u.append(x)\n",
    "    return u\n",
    "occurence(4,['ijkl','abcd','pqrs','abcd','ijkl'])"
   ]
  },
  {
   "cell_type": "code",
   "execution_count": 3,
   "metadata": {},
   "outputs": [
    {
     "name": "stdout",
     "output_type": "stream",
     "text": [
      "rama --> blue\n",
      "krishna --> red\n",
      "kote --> yellow\n",
      "rama --> blue\n",
      "krishna --> red\n",
      "kote --> yellow\n"
     ]
    }
   ],
   "source": [
    "names = ['rama','krishna','kote']\n",
    "colors = [\"blue\",\"red\",\"yellow\",'green',]\n",
    "n = min(len(names), len(colors))\n",
    "for i in range(n):\n",
    "    print(names[i], '-->', colors[i])\n",
    "for names, colors in zip(names,colors):\n",
    "    print(names, '-->', colors)"
   ]
  },
  {
   "cell_type": "code",
   "execution_count": 4,
   "metadata": {},
   "outputs": [
    {
     "name": "stdout",
     "output_type": "stream",
     "text": [
      "yellow\n",
      "red\n",
      "green\n",
      "blue\n"
     ]
    }
   ],
   "source": [
    "colors = [\"blue\",\"red\",\"yellow\",'green',]\n",
    "for color in sorted(colors, reverse=True):\n",
    "    print(color)"
   ]
  },
  {
   "cell_type": "code",
   "execution_count": 6,
   "metadata": {},
   "outputs": [
    {
     "data": {
      "text/plain": [
       "2"
      ]
     },
     "execution_count": 6,
     "metadata": {},
     "output_type": "execute_result"
    }
   ],
   "source": [
    "def string_match(str1,str2):\n",
    "    if len(str1) > len(str2):\n",
    "        l = len(str2)\n",
    "    else:\n",
    "        l = len(str1)\n",
    "    count = 0\n",
    "    for i in range(l):\n",
    "        if str1[i:i+2] == str2[i:i+2]:\n",
    "            count = count + 1\n",
    "    return count\n",
    "string_match(\"xcbaazz\",\"xxcaaz\")"
   ]
  },
  {
   "cell_type": "code",
   "execution_count": null,
   "metadata": {},
   "outputs": [],
   "source": []
  }
 ],
 "metadata": {
  "kernelspec": {
   "display_name": "Python 3",
   "language": "python",
   "name": "python3"
  },
  "language_info": {
   "codemirror_mode": {
    "name": "ipython",
    "version": 3
   },
   "file_extension": ".py",
   "mimetype": "text/x-python",
   "name": "python",
   "nbconvert_exporter": "python",
   "pygments_lexer": "ipython3",
   "version": "3.7.3"
  }
 },
 "nbformat": 4,
 "nbformat_minor": 2
}
