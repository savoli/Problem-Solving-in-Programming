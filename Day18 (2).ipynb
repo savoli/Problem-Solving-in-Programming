{
 "cells": [
  {
   "cell_type": "markdown",
   "metadata": {},
   "source": [
    "# Problem Solving and Programming\n",
    "\n",
    "Day No: 17\n",
    "\n",
    "Date :16/05/2019\n",
    "\n",
    "# Day Objectives\n",
    "\n",
    "\n",
    "Functional Programming\n",
    "External Libraries\n",
    "File Handling / Data Processing\n"
   ]
  },
  {
   "cell_type": "markdown",
   "metadata": {},
   "source": [
    "### Problem 1\n",
    "Define a function to read data from file"
   ]
  },
  {
   "cell_type": "code",
   "execution_count": 4,
   "metadata": {},
   "outputs": [
    {
     "data": {
      "text/plain": [
       "'# Problem Solving and Programming\\n\\n'"
      ]
     },
     "execution_count": 4,
     "metadata": {},
     "output_type": "execute_result"
    }
   ],
   "source": [
    "def readFileData(filename):\n",
    "    f=open(filename,'r')\n",
    "    filedata=f.readline()\n",
    "    filedata+=f.readline()\n",
    "    f.close()\n",
    "    return filedata\n",
    "readFileData('DataFiles/Data.txt')"
   ]
  },
  {
   "cell_type": "code",
   "execution_count": null,
   "metadata": {},
   "outputs": [],
   "source": [
    "def writeintoFile(filename,data):\n",
    "    with open(filename,'w') as f:\n",
    "        f.write(data)\n",
    "    return \n",
    "readFileData('data.txt')"
   ]
  },
  {
   "cell_type": "code",
   "execution_count": null,
   "metadata": {},
   "outputs": [],
   "source": [
    "def writeIntoFile(filename,data):\n",
    "    with open (filename,'w') as f:\n",
    "        f.write(data)\n",
    "    return\n",
    "\n",
    "writeIntoFile('dot.txt','data written into fileName')"
   ]
  },
  {
   "cell_type": "markdown",
   "metadata": {},
   "source": [
    "# Problem 2:\n",
    "Problem Statement:\n",
    "Define a function to generate a marks dastafile(text for 1300 students such that each mark is entered in anew line. marks range from 0 to 100 (inclusive) as random numbers"
   ]
  },
  {
   "cell_type": "code",
   "execution_count": 7,
   "metadata": {},
   "outputs": [],
   "source": [
    "import random\n",
    "def generateMarksData(n,filename):\n",
    "    with open(filename,'w') as marksfile:\n",
    "        for i in range(0,n):\n",
    "            marks= random.randint(0,101)\n",
    "            marksfile.write(str(marks)+'\\n')\n",
    "    return        \n",
    "generateMarksData(1300,'marks.txt')"
   ]
  },
  {
   "cell_type": "markdown",
   "metadata": {},
   "source": [
    "# Problem 2:\n",
    "Problem Statement:\n",
    "Generate a report on the marks data with the following indicators\n",
    "\n",
    "Highest mark :\n",
    "Lowest mark :\n",
    "Average mark :"
   ]
  },
  {
   "cell_type": "code",
   "execution_count": 11,
   "metadata": {},
   "outputs": [
    {
     "name": "stdout",
     "output_type": "stream",
     "text": [
      "Average: 50.80307692307692\n",
      "Max: 101.0\n",
      "Min: 0.0\n"
     ]
    }
   ],
   "source": [
    "import numpy as n\n",
    "def array(filename):\n",
    "            x = n.loadtxt(filename)\n",
    "            print('Average:', n.average(x))\n",
    "            print('Max:', n.max(x))\n",
    "            print('Min:', n.min(x))\n",
    "            return \n",
    "array('marks.txt')"
   ]
  },
  {
   "cell_type": "code",
   "execution_count": 15,
   "metadata": {},
   "outputs": [
    {
     "data": {
      "text/plain": [
       "0.0012562049996631686"
      ]
     },
     "execution_count": 15,
     "metadata": {},
     "output_type": "execute_result"
    }
   ],
   "source": [
    "import re,timeit\n",
    "def gMR(markfile):\n",
    "    start=timeit.default_timer()\n",
    "    mdata=readFileData(markfile)\n",
    "    mdata=re.split(r'\\n',mdata)\n",
    "    #mdata=list(map(int,mdata[:mdata]))-start\n",
    "    #print(max(map(sum,mdata))\n",
    "    return timeit.default_timer()-start\n",
    "gMR('marks.txt')"
   ]
  },
  {
   "cell_type": "markdown",
   "metadata": {},
   "source": [
    "# Problem 1\n",
    "Map Example"
   ]
  },
  {
   "cell_type": "code",
   "execution_count": 26,
   "metadata": {},
   "outputs": [
    {
     "data": {
      "text/plain": [
       "['1', '2', '3', '4', '5', '6']"
      ]
     },
     "execution_count": 26,
     "metadata": {},
     "output_type": "execute_result"
    }
   ],
   "source": [
    "def sq(n):\n",
    "    return n*n\n",
    "\n",
    "li=[1,2,3,4,5,6]\n",
    "#s=str(li)\n",
    "#s=list(map(str,li))\n",
    "#s=list(map(sq,li))\n",
    "s=list(map(str,li))\n",
    "\n",
    "s"
   ]
  },
  {
   "cell_type": "code",
   "execution_count": 28,
   "metadata": {},
   "outputs": [
    {
     "name": "stdout",
     "output_type": "stream",
     "text": [
      "Matrix A is [1 2 3]\n",
      "Matrix B is [2 3 4]\n",
      "Addition of A+B is: [3 5 7]\n"
     ]
    }
   ],
   "source": [
    "import numpy as np\n",
    "\n",
    "a=np.array([1,2,3])\n",
    "b=np.array([2,3,4])\n",
    "print(\"Matrix A is\",a)\n",
    "print(\"Matrix B is\",b)\n",
    "print(\"Addition of A+B is:\",a+b)"
   ]
  },
  {
   "cell_type": "code",
   "execution_count": 29,
   "metadata": {},
   "outputs": [
    {
     "name": "stdout",
     "output_type": "stream",
     "text": [
      "[[1 2 3]\n",
      " [3 4 5]]\n"
     ]
    },
    {
     "data": {
      "text/plain": [
       "numpy.ndarray"
      ]
     },
     "execution_count": 29,
     "metadata": {},
     "output_type": "execute_result"
    }
   ],
   "source": [
    "import numpy as np\n",
    "a=np.array([[1,2,3],[3,4,5]])\n",
    "print(a)\n",
    "type(a)"
   ]
  },
  {
   "cell_type": "code",
   "execution_count": null,
   "metadata": {},
   "outputs": [],
   "source": []
  }
 ],
 "metadata": {
  "kernelspec": {
   "display_name": "Python 3",
   "language": "python",
   "name": "python3"
  },
  "language_info": {
   "codemirror_mode": {
    "name": "ipython",
    "version": 3
   },
   "file_extension": ".py",
   "mimetype": "text/x-python",
   "name": "python",
   "nbconvert_exporter": "python",
   "pygments_lexer": "ipython3",
   "version": "3.7.3"
  }
 },
 "nbformat": 4,
 "nbformat_minor": 2
}
