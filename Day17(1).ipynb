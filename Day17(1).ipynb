{
 "cells": [
  {
   "cell_type": "markdown",
   "metadata": {},
   "source": [
    "# Problem Solving and programming\n",
    "Day No:17 Date: 15/05/2019\n",
    "\n",
    "Packages and Module\n",
    "Package-Collection of Python scripts(.py)\n",
    "sub-package : package inside another package\n",
    "Module-A Python script"
   ]
  },
  {
   "cell_type": "code",
   "execution_count": 12,
   "metadata": {},
   "outputs": [
    {
     "name": "stdout",
     "output_type": "stream",
     "text": [
      "40\n"
     ]
    }
   ],
   "source": [
    "from P1 import *\n",
    "\n",
    "sum(20)\n",
    "\n"
   ]
  },
  {
   "cell_type": "markdown",
   "metadata": {},
   "source": [
    "# Regular Expression"
   ]
  },
  {
   "cell_type": "code",
   "execution_count": 17,
   "metadata": {},
   "outputs": [
    {
     "name": "stdout",
     "output_type": "stream",
     "text": [
      "match\n"
     ]
    }
   ],
   "source": [
    "import re\n",
    "\n",
    "pattern='^g....$'\n",
    "\n",
    "domain='gmail'\n",
    "if re.match(pattern,domain):\n",
    "    print ('match')\n",
    "else:\n",
    "    print('does not match')"
   ]
  },
  {
   "cell_type": "code",
   "execution_count": 19,
   "metadata": {},
   "outputs": [
    {
     "name": "stdout",
     "output_type": "stream",
     "text": [
      "does not match\n"
     ]
    }
   ],
   "source": [
    "import re\n",
    "\n",
    "pattern='^n....$'\n",
    "\n",
    "domain='gmail'\n",
    "if re.match(pattern,domain):\n",
    "    print ('match')\n",
    "else:\n",
    "    print('does not match')"
   ]
  },
  {
   "cell_type": "code",
   "execution_count": 20,
   "metadata": {},
   "outputs": [
    {
     "name": "stdout",
     "output_type": "stream",
     "text": [
      "match\n"
     ]
    }
   ],
   "source": [
    "import re\n",
    "\n",
    "pattern='^[a-z]'\n",
    "\n",
    "domain='gmail'\n",
    "if re.match(pattern,domain):\n",
    "    print ('match')\n",
    "else:\n",
    "    print('does not match')"
   ]
  },
  {
   "cell_type": "code",
   "execution_count": 30,
   "metadata": {},
   "outputs": [
    {
     "name": "stdout",
     "output_type": "stream",
     "text": [
      "does not match\n"
     ]
    }
   ],
   "source": [
    "import re\n",
    "\n",
    "pattern='^[a-z]{2}'\n",
    "\n",
    "domain='a'\n",
    "if re.match(pattern,domain):\n",
    "    print ('match')\n",
    "else:\n",
    "    print('does not match')"
   ]
  },
  {
   "cell_type": "code",
   "execution_count": 6,
   "metadata": {},
   "outputs": [
    {
     "name": "stdout",
     "output_type": "stream",
     "text": [
      "match\n"
     ]
    }
   ],
   "source": [
    "import re\n",
    "\n",
    "pattern='^[a-z]{3,9}$'\n",
    "\n",
    "domain='gmail'\n",
    "if re.match(pattern,domain):\n",
    "    print ('match')\n",
    "else:\n",
    "    print('does not match')"
   ]
  },
  {
   "cell_type": "code",
   "execution_count": 7,
   "metadata": {},
   "outputs": [
    {
     "name": "stdout",
     "output_type": "stream",
     "text": [
      "does not match\n"
     ]
    }
   ],
   "source": [
    "import re\n",
    "\n",
    "pattern='^[a-z]{3,9}$'\n",
    "\n",
    "domain='gmail '\n",
    "if re.match(pattern,domain):\n",
    "    print ('match')\n",
    "else:\n",
    "    print('does not match')"
   ]
  },
  {
   "cell_type": "code",
   "execution_count": 36,
   "metadata": {},
   "outputs": [
    {
     "name": "stdout",
     "output_type": "stream",
     "text": [
      "match\n"
     ]
    }
   ],
   "source": [
    "import re\n",
    "\n",
    "pattern='^[0-9]{10}$'\n",
    "\n",
    "domain='9573232225'\n",
    "\n",
    "if re.match(pattern,domain):\n",
    "    print ('match')\n",
    "else:\n",
    "    print('does not match')"
   ]
  },
  {
   "cell_type": "code",
   "execution_count": 38,
   "metadata": {},
   "outputs": [
    {
     "name": "stdout",
     "output_type": "stream",
     "text": [
      "does not match\n"
     ]
    }
   ],
   "source": [
    "import re\n",
    "\n",
    "pattern='^[1-9][0-9]{5}$'\n",
    "\n",
    "#domain='518401'\n",
    "domain='018401'\n",
    "if re.match(pattern,domain):\n",
    "    print ('match')\n",
    "else:\n",
    "    print('does not match')"
   ]
  },
  {
   "cell_type": "code",
   "execution_count": 40,
   "metadata": {},
   "outputs": [
    {
     "name": "stdout",
     "output_type": "stream",
     "text": [
      "does not match\n"
     ]
    }
   ],
   "source": [
    "import re\n",
    "\n",
    "pattern='^[6-9][0-9]{9}$'\n",
    "\n",
    "#domain='518401'\n",
    "#domain='9573232225'\n",
    "domain='0573232225'\n",
    "if re.match(pattern,domain):\n",
    "    print ('match')\n",
    "else:\n",
    "    print('does not match')"
   ]
  },
  {
   "cell_type": "code",
   "execution_count": 47,
   "metadata": {},
   "outputs": [
    {
     "name": "stdout",
     "output_type": "stream",
     "text": [
      "match\n"
     ]
    }
   ],
   "source": [
    "import re\n",
    "\n",
    "pattern='^[a-z][a-z0-9_-]{5,13}[a-z0-9][@][0-9a-z]{3,9}[.][a-z]{2,3}$'\n",
    "\n",
    "#domain='518401'\n",
    "#domain='9573232225'\n",
    "domain='raghusavoli@gmail.com'\n",
    "if re.match(pattern,domain):\n",
    "    print ('match')\n",
    "else:\n",
    "    print('does not match')"
   ]
  },
  {
   "cell_type": "markdown",
   "metadata": {},
   "source": []
  },
  {
   "cell_type": "code",
   "execution_count": null,
   "metadata": {},
   "outputs": [],
   "source": []
  }
 ],
 "metadata": {
  "kernelspec": {
   "display_name": "Python 3",
   "language": "python",
   "name": "python3"
  },
  "language_info": {
   "codemirror_mode": {
    "name": "ipython",
    "version": 3
   },
   "file_extension": ".py",
   "mimetype": "text/x-python",
   "name": "python",
   "nbconvert_exporter": "python",
   "pygments_lexer": "ipython3",
   "version": "3.7.3"
  }
 },
 "nbformat": 4,
 "nbformat_minor": 2
}
