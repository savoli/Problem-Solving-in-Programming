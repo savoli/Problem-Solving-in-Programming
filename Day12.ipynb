{
 "cells": [
  {
   "cell_type": "markdown",
   "metadata": {},
   "source": [
    "# PROBLEM SOLVING AND PROGRAMMING\n",
    "day no :12\n",
    "date :10-05-19\n",
    "day Outcomes\n",
    "Outcome1:\n",
    "Outcome2:\n",
    "Outcome3:\n",
    "PROBLEM 1\n",
    "PROBLEM STATEMENT:\n",
    "Factorial of a given number as a procedure\n",
    "\n",
    "TEST CASES\n",
    "Factorial(5) -> 120\n",
    "\n",
    "Factorial (6) -> 720\n"
   ]
  },
  {
   "cell_type": "code",
   "execution_count": 1,
   "metadata": {},
   "outputs": [
    {
     "name": "stdout",
     "output_type": "stream",
     "text": [
      "120\n",
      "720\n"
     ]
    }
   ],
   "source": [
    "def factorial(n1):\n",
    "    fact=1\n",
    "    for c in range(1,n1):\n",
    "        fact=fact*(n1)\n",
    "        n1=n1-1\n",
    "    return fact\n",
    "print(factorial(5))\n",
    "print(factorial(6))"
   ]
  },
  {
   "cell_type": "markdown",
   "metadata": {},
   "source": [
    "PROBLEM 2\n",
    "PROBLEM STATEMENT:\n",
    "Procedure to generate multiplication tables.\n",
    "\n",
    "TEST CASES\n",
    "MT(3, 5, 7) -> 3 X 5 = 15\n",
    "\n",
    "            3 X 6 = 18\n",
    "\n",
    "            3 X 7 = 21"
   ]
  },
  {
   "cell_type": "code",
   "execution_count": 2,
   "metadata": {},
   "outputs": [
    {
     "name": "stdout",
     "output_type": "stream",
     "text": [
      "3 X 5 = 15\n",
      "3 X 6 = 18\n",
      "3 X 7 = 21\n",
      "None\n",
      "4 X 5 = 20\n",
      "4 X 6 = 24\n",
      "4 X 7 = 28\n",
      "None\n",
      "5 X 5 = 25\n",
      "5 X 6 = 30\n",
      "5 X 7 = 35\n",
      "None\n"
     ]
    }
   ],
   "source": [
    "def mult(n1):\n",
    "    for c in range(5,8):\n",
    "        print(n1,'X',c,'=',n1*c)\n",
    "print(mult(3))\n",
    "print(mult(4))\n",
    "print(mult(5))"
   ]
  },
  {
   "cell_type": "markdown",
   "metadata": {},
   "source": [
    "# PROBLEM 3\n",
    "PROBLEM STATEMENT:¶\n",
    "To find power of a number using recursion"
   ]
  },
  {
   "cell_type": "code",
   "execution_count": 3,
   "metadata": {},
   "outputs": [
    {
     "data": {
      "text/plain": [
       "8"
      ]
     },
     "execution_count": 3,
     "metadata": {},
     "output_type": "execute_result"
    }
   ],
   "source": [
    "def recursivepower(n,r):\n",
    "    if r == 1:\n",
    "        return n\n",
    "    else:\n",
    "        return recursivepower(n,r-1)*n\n",
    "    \n",
    "recursivepower(2,3)"
   ]
  },
  {
   "cell_type": "markdown",
   "metadata": {},
   "source": [
    "# PROBLEM 4\n",
    "PROBLEM STATEMENT:\n",
    "GCD of two numbers using recursion"
   ]
  },
  {
   "cell_type": "code",
   "execution_count": 4,
   "metadata": {},
   "outputs": [
    {
     "data": {
      "text/plain": [
       "4"
      ]
     },
     "execution_count": 4,
     "metadata": {},
     "output_type": "execute_result"
    }
   ],
   "source": [
    "def gcdrecursive(a,b):\n",
    "    if b % a == 0:\n",
    "        return a\n",
    "    else:\n",
    "        return gcdrecursive(b % a,a)\n",
    "        \n",
    "gcdrecursive(12,40)"
   ]
  },
  {
   "cell_type": "markdown",
   "metadata": {},
   "source": [
    "# PROBLEM 5\n",
    "PROBLEM STATEMENT:\n",
    "GCD oftwo numbers"
   ]
  },
  {
   "cell_type": "code",
   "execution_count": 5,
   "metadata": {},
   "outputs": [
    {
     "data": {
      "text/plain": [
       "3"
      ]
     },
     "execution_count": 5,
     "metadata": {},
     "output_type": "execute_result"
    }
   ],
   "source": [
    "def gcd(a,b):\n",
    "    r = b % a\n",
    "    if (r== 0):\n",
    "        return a\n",
    "    while r != 0:\n",
    "        r = b % a\n",
    "        b=a\n",
    "        a=r\n",
    "        \n",
    "    return b\n",
    "\n",
    "gcd(12,39)"
   ]
  },
  {
   "cell_type": "code",
   "execution_count": 6,
   "metadata": {},
   "outputs": [
    {
     "name": "stdout",
     "output_type": "stream",
     "text": [
      "{'brand': 'Ford', 'model': 'Mustang', 'year': 1964}\n",
      "Mustang\n",
      "{'brand': 'Ford', 'model': 'Mustang', 'year': 2018}\n",
      "brand\n",
      "model\n",
      "year\n",
      "Ford\n",
      "Mustang\n",
      "2018\n",
      "Ford\n",
      "Mustang\n",
      "2018\n",
      "Yes, 'model' is one of the keys in the thisdict dictionary\n",
      "3\n",
      "{'brand': 'Ford', 'model': 'Mustang', 'year': 2018, 'color': 'red'}\n",
      "{'brand': 'Ford', 'model': 'Mustang', 'year': 2018, 'color': 'red'}\n",
      "{'brand': 'Ford', 'year': 2018, 'color': 'red'}\n",
      "{'brand': 'Ford', 'year': 2018}\n"
     ]
    }
   ],
   "source": [
    "thisdict ={\n",
    "  \"brand\": \"Ford\",\n",
    "  \"model\": \"Mustang\",\n",
    "  \"year\": 1964\n",
    "}\n",
    "print(thisdict)\n",
    "x = thisdict[\"model\"]\n",
    "print(x)\n",
    "thisdict[\"year\"] = 2018\n",
    "print(thisdict)\n",
    "for x in thisdict:\n",
    "  print(x)\n",
    "for x in thisdict:\n",
    "  print(thisdict[x])\n",
    "for x in thisdict.values():\n",
    "  print(x)\n",
    "if \"model\" in thisdict:\n",
    "  print(\"Yes, 'model' is one of the keys in the thisdict dictionary\")\n",
    "print(len(thisdict))\n",
    "thisdict[\"color\"] = \"red\"\n",
    "print(thisdict)\n",
    "mydict = thisdict.copy()\n",
    "print(mydict)\n",
    "thisdict.pop(\"model\")\n",
    "print(thisdict)\n",
    "thisdict.popitem()\n",
    "print(thisdict)"
   ]
  },
  {
   "cell_type": "code",
   "execution_count": 7,
   "metadata": {},
   "outputs": [
    {
     "name": "stdout",
     "output_type": "stream",
     "text": [
      "['apple', 'banana', 'cherry', 'apple']\n",
      "1\n",
      "2\n",
      "['apple', 'banana', 'cherry', 'apple']\n",
      "['apple', 'banana', 'cherry', 'apple', 'hi', 'hello']\n",
      "['hello', 'hi', 'apple', 'cherry', 'banana', 'apple']\n",
      "['apple', 'apple', 'banana', 'cherry', 'hello', 'hi']\n",
      "['apple', 'banana', 'cherry', 'hello', 'hi']\n",
      "['hi']\n"
     ]
    }
   ],
   "source": [
    "thislist = [\"apple\", \"banana\", \"cherry\",\"apple\"]\n",
    "mlist=[\"hi\",\"hello\"]\n",
    "print(thislist)\n",
    "print(thislist.index(\"banana\"))\n",
    "print(thislist.count(\"apple\"))\n",
    "mylist=thislist.copy()\n",
    "print(mylist)\n",
    "thislist.extend(mlist)\n",
    "print(thislist)\n",
    "thislist.reverse()\n",
    "print(thislist)\n",
    "thislist.sort()\n",
    "print(thislist)\n",
    "thislist.remove(\"apple\")\n",
    "print(thislist)\n",
    "thislist.clear()\n",
    "thislist.append(\"hi\")\n",
    "print(thislist)"
   ]
  },
  {
   "cell_type": "code",
   "execution_count": null,
   "metadata": {},
   "outputs": [],
   "source": []
  }
 ],
 "metadata": {
  "kernelspec": {
   "display_name": "Python 3",
   "language": "python",
   "name": "python3"
  },
  "language_info": {
   "codemirror_mode": {
    "name": "ipython",
    "version": 3
   },
   "file_extension": ".py",
   "mimetype": "text/x-python",
   "name": "python",
   "nbconvert_exporter": "python",
   "pygments_lexer": "ipython3",
   "version": "3.7.3"
  }
 },
 "nbformat": 4,
 "nbformat_minor": 2
}
